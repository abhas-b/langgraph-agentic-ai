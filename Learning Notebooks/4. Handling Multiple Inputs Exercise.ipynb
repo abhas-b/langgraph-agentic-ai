{
 "cells": [
  {
   "cell_type": "code",
   "execution_count": 7,
   "id": "d443cd78",
   "metadata": {},
   "outputs": [],
   "source": [
    "from langgraph.graph import StateGraph\n",
    "from typing import List, TypedDict\n",
    "import numpy as np"
   ]
  },
  {
   "cell_type": "code",
   "execution_count": 3,
   "id": "dcb9bf00",
   "metadata": {},
   "outputs": [],
   "source": [
    "class AgentState(TypedDict):\n",
    "    name: str\n",
    "    operation: str\n",
    "    values: List[int]\n",
    "    result: str"
   ]
  },
  {
   "cell_type": "code",
   "execution_count": 8,
   "id": "bdf9f512",
   "metadata": {},
   "outputs": [],
   "source": [
    "def process_values(state: AgentState) -> AgentState:\n",
    "    if state['operation'] == \"+\":\n",
    "        result = sum(state['values'])\n",
    "    elif state['operation'] == \"*\":\n",
    "        result = np.prod(state['values'])\n",
    "    \n",
    "    state['result'] = f\"Hi {state['name']}, your answer is: {result}\"\n",
    "    return state"
   ]
  },
  {
   "cell_type": "code",
   "execution_count": null,
   "id": "a2691fc9",
   "metadata": {},
   "outputs": [],
   "source": [
    "graph = StateGraph(AgentState)\n",
    "graph.add_node(\"processor\", process_values)\n",
    "graph.set_entry_point(\"processor\")\n",
    "graph.set_finish_point(\"processor\")\n",
    "\n",
    "app = graph.compile()"
   ]
  },
  {
   "cell_type": "code",
   "execution_count": 11,
   "id": "c4e12c7c",
   "metadata": {},
   "outputs": [
    {
     "data": {
      "text/plain": [
       "{'name': 'Jack Sparrow',\n",
       " 'operation': '*',\n",
       " 'values': [1, 2, 3, 4],\n",
       " 'result': 'Hi Jack Sparrow, your answer is: 24'}"
      ]
     },
     "execution_count": 11,
     "metadata": {},
     "output_type": "execute_result"
    }
   ],
   "source": [
    "app.invoke({\"values\": [1,2,3,4],\n",
    "            \"operation\": \"*\",\n",
    "            \"name\": \"Jack Sparrow\"})"
   ]
  }
 ],
 "metadata": {
  "kernelspec": {
   "display_name": "llms",
   "language": "python",
   "name": "python3"
  },
  "language_info": {
   "codemirror_mode": {
    "name": "ipython",
    "version": 3
   },
   "file_extension": ".py",
   "mimetype": "text/x-python",
   "name": "python",
   "nbconvert_exporter": "python",
   "pygments_lexer": "ipython3",
   "version": "3.11.11"
  }
 },
 "nbformat": 4,
 "nbformat_minor": 5
}
